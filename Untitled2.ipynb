{
  "nbformat": 4,
  "nbformat_minor": 0,
  "metadata": {
    "colab": {
      "name": "Untitled2.ipynb",
      "provenance": [],
      "authorship_tag": "ABX9TyNXqunqPfecLagz5BAgPJCp"
    },
    "kernelspec": {
      "name": "python3",
      "display_name": "Python 3"
    }
  },
  "cells": [
    {
      "cell_type": "code",
      "metadata": {
        "id": "CVvlr_No2Y9J",
        "colab_type": "code",
        "colab": {}
      },
      "source": [
        "from keras.datasets import cifar10\n",
        "from keras.utils import to_categorical \n",
        "(X,y),(Xt,yt)=cifar10.load_data()\n",
        "X=X.reshape(50000,32,32,3)\n",
        "Xt=Xt.reshape(10000,32,32,3)\n",
        "X=X.astype(\"float32\")/255\n",
        "Xt=Xt.astype(\"float32\")/255\n",
        "y=to_categorical(y)\n",
        "yt=to_categorical(yt)\n",
        "from keras import layers\n",
        "from keras import models\n",
        "model=models.Sequential()\n",
        "from keras.applications import VGG16 \n",
        "c_b=VGG16(weights=\"imagenet\",include_top=False,input_shape=(32,32,3))\n",
        "c_b.trainable=True\n",
        "set_trainable=False\n",
        "for layer in c_b.layers:\n",
        "  if(layer.name==\"block5_conv1\"):\n",
        "    set_trainable=True\n",
        "  if(set_trainable):\n",
        "    layer.trainable=True\n",
        "  else:\n",
        "    layer.trainable=False\n",
        "model.add(c_b)\n",
        "model.add(layers.Flatten())\n",
        "model.add(layers.Dropout(0.5))\n",
        "model.add(layers.Dense(256,activation=\"relu\"))\n",
        "model.add(layers.Dense(10,activation=\"softmax\"))\n",
        "model.summary()\n",
        "from keras import optimizers\n",
        "model.compile(optimizer=optimizers.RMSprop(lr=2e-5),loss=\"categorical_crossentropy\",metrics=[\"accuracy\"])\n",
        "model.fit(X,y,epochs=30,batch_size=100)\n",
        "yp=model.predict(Xt)\n",
        "loss,acc=model.evaluate(Xt,yt)\n",
        "print(acc)\n",
        "import matplotlib.pyplot as plt\n",
        "for i in range(10):\n",
        "  plt.imshow(X[i])\n",
        "  print(\"trained:\"+\" \"+y[i].index(i))\n",
        "for i in range(10):\n",
        "  plt.imshow(Xt[i])\n",
        "  print(\"original\"+\" \"+yt[i].index(i))\n",
        "  print(\"predicted\"+\" \"+ yp[i].index(i))\n"
      ],
      "execution_count": null,
      "outputs": []
    }
  ]
}