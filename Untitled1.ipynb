{
  "nbformat": 4,
  "nbformat_minor": 0,
  "metadata": {
    "colab": {
      "name": "Untitled1.ipynb",
      "provenance": [],
      "authorship_tag": "ABX9TyOxIFSljlx7A8ZSfdEFskqu"
    },
    "kernelspec": {
      "name": "python3",
      "display_name": "Python 3"
    }
  },
  "cells": [
    {
      "cell_type": "code",
      "metadata": {
        "id": "hc1WCtm_niLl",
        "colab_type": "code",
        "colab": {}
      },
      "source": [
        "from keras.datasets import cifar10\n",
        "from keras.utils import to_categorical \n",
        "(X,y),(Xt,yt)=cifar10.load_data()\n",
        "X=X.reshape(50000,32,32,3)\n",
        "Xt=Xt.reshape(10000,32,32,3)\n",
        "X=X.astype(\"float32\")/255\n",
        "Xt=Xt.astype(\"float32\")/255\n",
        "y=to_categorical(y)\n",
        "yt=to_categorical(yt)\n",
        "from keras import layers\n",
        "from keras import models\n",
        "model=models.Sequential()\n",
        "model.add(layers.Conv2D(64,(3,3),activation=\"relu\",input_shape=((32,32,3))))\n",
        "model.add(layers.MaxPooling2D((2,2)))\n",
        "model.add(layers.Conv2D(128,(3,3),activation=\"relu\"))\n",
        "model.add(layers.MaxPooling2D((2,2)))\n",
        "model.add(layers.Conv2D(128,(3,3),activation=\"relu\"))\n",
        "model.add(layers.MaxPooling2D((2,2)))\n",
        "model.add(layers.Flatten())\n",
        "model.add(layers.Dropout(0.5))\n",
        "model.add(layers.Dense(64,activation=\"relu\"))\n",
        "model.add(layers.Dense(10,activation=\"softmax\"))\n",
        "model.summary()\n",
        "model.compile(optimizer=\"rmsprop\",loss=\"categorical_crossentropy\",metrics=[\"accuracy\"])\n",
        "model.fit(X,y,epochs=30,batch_size=64)\n",
        "yp=model.predict(Xt)\n",
        "loss,acc=model.evaluate(Xt,yt)\n",
        "print(acc)\n",
        "import matplotlib.pyplot as plt\n",
        "for i in range(10):\n",
        "  plt.imshow(X[i])\n",
        "  print(\"trained:\"+\" \"+y[i].index(i))\n",
        "for i in range(10):\n",
        "  plt.imshow(Xt[i])\n",
        "  print(\"original\"+\" \"+yt[i].index(i))\n",
        "  print(\"predicted\"+\" \"+ yp[i].index(i))\n",
        "\n",
        "\n"
      ],
      "execution_count": null,
      "outputs": []
    }
  ]
}